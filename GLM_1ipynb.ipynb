{
  "nbformat": 4,
  "nbformat_minor": 0,
  "metadata": {
    "colab": {
      "provenance": [],
      "collapsed_sections": [],
      "authorship_tag": "ABX9TyMtYJKXzUlgECrjecuFI9BW"
    },
    "kernelspec": {
      "name": "python3",
      "display_name": "Python 3"
    },
    "language_info": {
      "name": "python"
    }
  },
  "cells": [
    {
      "cell_type": "code",
      "execution_count": null,
      "metadata": {
        "id": "HMYdVROnzquw"
      },
      "outputs": [],
      "source": [
        "%load_ext rpy2.ipython"
      ]
    },
    {
      "cell_type": "code",
      "source": [
        "%%R\n",
        "dataset=read.csv('/content/insurance.csv') \n",
        "y=data$charges ; x1=data$age ; x2=data$bmi ; x3=data$children; x4=data$smoker; x5=data$region\n",
        "df=na.omit(data.frame(x1,x2,x3,x4,x5,y)) # To omit any missing values in the dataset.\n",
        "dim(df)\n",
        "head(df)\n",
        "\n",
        "#There are no missing values in the dataset hence using the original dataset further.\n"
      ],
      "metadata": {
        "colab": {
          "base_uri": "https://localhost:8080/"
        },
        "id": "Q-13SPdGPTD4",
        "outputId": "456bd002-6cb2-401c-bc70-b4981f9514a7"
      },
      "execution_count": null,
      "outputs": [
        {
          "output_type": "stream",
          "name": "stdout",
          "text": [
            "  x1     x2 x3 x4 x5         y\n",
            "1 19 27.900  0  1  3 16884.924\n",
            "2 18 33.770  1  0  2  1725.552\n",
            "3 28 33.000  3  0  2  4449.462\n",
            "4 33 22.705  0  0  1 21984.471\n",
            "5 32 28.880  0  0  1  3866.855\n",
            "6 31 25.740  0  0  2  3756.622\n"
          ]
        }
      ]
    },
    {
      "cell_type": "code",
      "source": [
        "%%R\n",
        "dataset=read.csv('/content/insurance.csv') \n",
        "head(dataset)"
      ],
      "metadata": {
        "colab": {
          "base_uri": "https://localhost:8080/"
        },
        "id": "PsOqqr1LtC-E",
        "outputId": "f73dac94-783e-4f48-a744-0d52635accff"
      },
      "execution_count": null,
      "outputs": [
        {
          "output_type": "stream",
          "name": "stdout",
          "text": [
            "  age sex    bmi children smoker region   charges\n",
            "1  19   0 27.900        0      1      3 16884.924\n",
            "2  18   1 33.770        1      0      2  1725.552\n",
            "3  28   1 33.000        3      0      2  4449.462\n",
            "4  33   1 22.705        0      0      1 21984.471\n",
            "5  32   1 28.880        0      0      1  3866.855\n",
            "6  31   0 25.740        0      0      2  3756.622\n"
          ]
        }
      ]
    },
    {
      "cell_type": "markdown",
      "source": [
        "Q1 Split the dataset into two subsets, consider the first subset as a trainset with 80% of the original data, and the second subset as a testset with 20% of the original data."
      ],
      "metadata": {
        "id": "IGjZg01khpMQ"
      }
    },
    {
      "cell_type": "code",
      "source": [
        "%%R\n",
        "\n",
        "#spliting the dataset into trainset and testset.\n",
        "df = read.csv('/content/insurance.csv')\n",
        "set.seed(32)\n",
        "n=nrow(df)\n",
        "ind=sample(n,n*0.8)\n",
        "train=df[ind,] #Train data\n",
        "train\n",
        "test=df[-ind,] #Test data\n",
        "test\n"
      ],
      "metadata": {
        "id": "XueO7JgUhq6M",
        "colab": {
          "base_uri": "https://localhost:8080/"
        },
        "outputId": "0b92d4f3-61f7-4403-a63e-f5e3d1868556"
      },
      "execution_count": null,
      "outputs": [
        {
          "output_type": "stream",
          "name": "stdout",
          "text": [
            "    age sex    bmi children smoker region   charges\n",
            "2    18   1 33.770        1      0      2  1725.552\n",
            "8    37   0 27.740        3      0      1  7281.506\n",
            "12   62   0 26.290        0      1      2 27808.725\n",
            "13   23   1 34.400        0      0      3  1826.843\n",
            "18   23   1 23.845        0      0      0  2395.172\n",
            "22   30   0 32.400        1      0      3  4149.736\n",
            "23   18   1 34.100        0      0      2  1137.011\n",
            "25   37   1 28.025        2      0      1  6203.902\n",
            "27   63   0 23.085        0      0      0 14451.835\n",
            "45   38   1 37.050        1      0      0  6079.672\n",
            "59   53   0 22.880        1      1      2 23244.790\n",
            "63   64   1 24.700        1      0      1 30166.618\n",
            "64   28   0 25.935        1      0      1  4133.642\n",
            "65   20   0 22.420        0      1      1 14711.744\n",
            "73   53   0 28.100        3      0      3 11741.726\n",
            "75   44   1 27.400        2      0      3  7726.854\n",
            "80   41   0 32.965        0      0      1  6571.024\n",
            "83   22   1 37.620        1      1      2 37165.164\n",
            "94   35   1 34.770        2      0      1  5729.005\n",
            "108  26   1 30.875        2      0      1  3877.304\n",
            "112  55   0 29.700        2      0      3 11881.358\n",
            "114  21   0 35.720        0      0      1  2404.734\n",
            "118  29   0 27.940        1      1      2 19107.780\n",
            "125  47   0 33.915        3      0      1 10115.009\n",
            "127  19   0 28.300        0      1      3 17081.080\n",
            "130  38   1 34.700        2      0      3  6082.405\n",
            "133  53   0 35.900        2      0      3 11163.568\n",
            "134  19   1 25.555        0      0      1  1632.564\n",
            "150  19   1 28.400        1      0      3  1842.519\n",
            "151  35   1 24.130        1      0      1  5125.216\n",
            "152  48   1 29.700        0      0      2  7789.635\n",
            "157  48   1 24.420        0      1      2 21223.676\n",
            "161  42   0 26.600        0      1      1 21348.706\n",
            "171  63   1 41.470        0      0      2 13405.390\n",
            "174  35   0 34.800        1      0      3  5246.047\n",
            "180  41   0 33.155        3      0      0  8538.288\n",
            "185  44   1 30.690        2      0      2  7731.427\n",
            "186  36   1 41.895        3      1      0 43753.337\n",
            "187  26   0 29.920        2      0      2  3981.977\n",
            "195  18   1 34.430        0      0      2  1137.470\n",
            "196  19   1 30.590        0      0      1  1639.563\n",
            "199  51   0 18.050        0      0      1  9644.253\n",
            "203  60   0 24.035        0      0      1 13012.209\n",
            "213  24   1 28.500        2      0      1  3537.703\n",
            "215  45   0 30.900        2      0      3  8520.026\n",
            "226  55   1 33.880        3      0      2 11987.168\n",
            "229  41   0 31.635        1      0      0  7358.176\n",
            "235  39   1 24.510        2      0      1  6710.192\n",
            "238  31   1 38.390        2      0      2  4463.205\n",
            "245  63   0 27.740        0      1      0 29523.166\n",
            "247  60   0 38.060        0      0      2 12648.703\n",
            "250  29   1 28.975        1      0      0  4040.558\n",
            "252  63   0 32.200        2      1      3 47305.305\n",
            "272  50   1 34.200        2      1      3 42856.838\n",
            "273  41   1 37.050        2      0      1  7265.703\n",
            "276  47   0 26.600        2      0      0  9715.841\n",
            "278  22   0 24.300        0      0      3  2150.469\n",
            "281  40   0 28.120        1      1      0 22331.567\n",
            "284  55   0 32.395        1      0      0 11879.104\n",
            "291  28   0 33.400        0      0      3  3172.018\n",
            "295  25   1 26.800        3      0      3  3906.127\n",
            "296  18   1 22.990        0      0      0  1704.568\n",
            "310  41   0 33.060        2      0      1  7749.156\n",
            "311  50   1 26.600        0      0      3  8444.474\n",
            "323  34   1 30.800        0      1      3 35491.640\n",
            "327  27   0 23.210        1      0      2  3561.889\n",
            "333  61   0 31.160        0      0      1 13429.035\n",
            "335  43   0 35.720        2      0      0 19144.577\n",
            "340  46   0 27.720        1      0      2  8232.639\n",
            "344  63   1 36.765        0      0      0 13981.850\n"
          ]
        }
      ]
    },
    {
      "cell_type": "markdown",
      "source": [
        "Q2 Model the output variable using an appropriate distribution using trainset, estimate the parameters of the model and predict the output in the testset."
      ],
      "metadata": {
        "id": "WyoytbN4h3Ey"
      }
    },
    {
      "cell_type": "code",
      "source": [
        "%%R\n",
        "#Modelling the output variable using trainset of the data.\n",
        "df = read.csv('/content/insurance.csv')\n",
        "set.seed(32)\n",
        "n=nrow(df)\n",
        "ind=sample(n,n*0.8)\n",
        "trainset=df[ind,]\n",
        "testset=df[-ind,]\n",
        "\n",
        "hist(log(trainset$charges))\n",
        "\n"
      ],
      "metadata": {
        "colab": {
          "base_uri": "https://localhost:8080/",
          "height": 497
        },
        "id": "sbbISpokh5rZ",
        "outputId": "83042d0f-4f22-4e84-9e58-732b38cc32b3"
      },
      "execution_count": null,
      "outputs": [
        {
          "output_type": "display_data",
          "data": {
            "image/png": "[encoded data removed]"
          },
          "metadata": {}
        }
      ]
    },
    {
      "cell_type": "code",
      "source": [
        "# Estiamting parameters of the variable $charges in the testset using normal distribution.\n",
        "%%R\n",
        "df=read.csv('/content/insurance.csv')\n",
        "set.seed(32)\n",
        "n=nrow(df)\n",
        "ind=sample(n,n*0.8)\n",
        "trainset=df[ind,]\n",
        "testset=df[-ind,]\n",
        "X=testset$charges\n",
        "mu=mean(X); sigma=sd(X)\n",
        "c(mu,sigma)     # parameter"
      ],
      "metadata": {
        "colab": {
          "base_uri": "https://localhost:8080/"
        },
        "id": "qeN6hK0a4Xp6",
        "outputId": "13d63252-6ea9-4dbd-dd07-e27a6a3327f1"
      },
      "execution_count": null,
      "outputs": [
        {
          "output_type": "stream",
          "name": "stdout",
          "text": [
            "[1] 11630.40 10857.24\n"
          ]
        }
      ]
    },
    {
      "cell_type": "code",
      "source": [
        "# Predicting the output in the testset.\n",
        "%%R\n",
        "df=read.csv('/content/insurance.csv')\n",
        "set.seed(32)\n",
        "n=nrow(df)\n",
        "ind=sample(n,n*0.8)\n",
        "trainset=df[ind,]\n",
        "testset=df[-ind,]\n",
        "mu=mean(testset$charges);v=var(testset$charges)\n",
        "print(c(mu,v))\n",
        "L=mu-3*sd(testset$charges); U=mu+3*sd(testset$charges)\n",
        "x=seq(L,U,0.1)\n",
        "pdf=dnorm(x,mu,sd(testset$charges))\n",
        "plot(x,pdf,col='red')\n",
        "\n",
        "#Prediction 11630.4"
      ],
      "metadata": {
        "colab": {
          "base_uri": "https://localhost:8080/",
          "height": 514
        },
        "id": "5adw6M4z3Gct",
        "outputId": "fb08bc5e-17b3-4d2b-a9de-c467efcd78ba"
      },
      "execution_count": null,
      "outputs": [
        {
          "output_type": "stream",
          "name": "stdout",
          "text": [
            "[1]     11630.4 117879766.1\n"
          ]
        },
        {
          "output_type": "display_data",
          "data": {
            "image/png": "[encoded data removed]"
          },
          "metadata": {}
        }
      ]
    },
    {
      "cell_type": "markdown",
      "source": [
        "Q3) Apply either Linear or logistic regression to model the output variable on the input variables. Mention which task of the predictive analytics is going to be solved."
      ],
      "metadata": {
        "id": "_Rk1SvvYvvTb"
      }
    },
    {
      "cell_type": "code",
      "source": [
        "%%R\n",
        "# linear regression is an appropriate glm since the output variable(charges) is continuous.\n",
        "data= read.csv('/content/insurance.csv')\n",
        "head(data)\n",
        "# linear regression : family = 'gaussian'\n",
        "fit=glm(charges~.,data, family='gaussian')\n",
        "coef(fit)  # parameter estimation\n"
      ],
      "metadata": {
        "colab": {
          "base_uri": "https://localhost:8080/"
        },
        "id": "z6jHcT-2v2lL",
        "outputId": "e6e897ce-c7a6-417e-db9f-933847cc83c5"
      },
      "execution_count": null,
      "outputs": [
        {
          "output_type": "stream",
          "name": "stdout",
          "text": [
            "(Intercept)         age         sex         bmi    children      smoker \n",
            "-13099.6817    266.5838    196.9701    344.1377    547.6069  23841.7988 \n",
            "     region \n",
            "  -162.2798 \n"
          ]
        }
      ]
    },
    {
      "cell_type": "code",
      "source": [
        "%%R\n",
        "summary(fit) # feature selection using glm"
      ],
      "metadata": {
        "colab": {
          "base_uri": "https://localhost:8080/"
        },
        "id": "NubsYFbnY_MU",
        "outputId": "5f1928a0-55fc-4ea3-9393-58bdf80c1ee1"
      },
      "execution_count": null,
      "outputs": [
        {
          "output_type": "stream",
          "name": "stdout",
          "text": [
            "\n",
            "Call:\n",
            "glm(formula = charges ~ ., family = \"gaussian\", data = data)\n",
            "\n",
            "Deviance Residuals: \n",
            "     Min        1Q    Median        3Q       Max  \n",
            "-11459.9   -2761.8    -905.3    1532.9   24314.0  \n",
            "\n",
            "Coefficients:\n",
            "             Estimate Std. Error t value Pr(>|t|)    \n",
            "(Intercept) -13099.68    2019.55  -6.486 3.09e-10 ***\n",
            "age            266.58      23.08  11.550  < 2e-16 ***\n",
            "sex            196.97     665.60   0.296   0.7675    \n",
            "bmi            344.14      59.39   5.794 1.56e-08 ***\n",
            "children       547.61     276.17   1.983   0.0482 *  \n",
            "smoker       23841.80     783.80  30.418  < 2e-16 ***\n",
            "region        -162.28     300.69  -0.540   0.5898    \n",
            "---\n",
            "Signif. codes:  0 ‘***’ 0.001 ‘**’ 0.01 ‘*’ 0.05 ‘.’ 0.1 ‘ ’ 1\n",
            "\n",
            "(Dispersion parameter for gaussian family taken to be 37304277)\n",
            "\n",
            "    Null deviance: 5.5430e+10  on 347  degrees of freedom\n",
            "Residual deviance: 1.2721e+10  on 341  degrees of freedom\n",
            "AIC: 7063.8\n",
            "\n",
            "Number of Fisher Scoring iterations: 2\n",
            "\n"
          ]
        }
      ]
    },
    {
      "cell_type": "markdown",
      "source": [
        "![CRISP-DM.png](data:image/png;base64,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)"
      ],
      "metadata": {
        "id": "QHDcW8-_cRIL"
      }
    },
    {
      "cell_type": "markdown",
      "source": [
        "By choosing and applying the appropriate model to the dataset **The Modelling stage** is accomplished.\n",
        "The steps involved in Modelling include:\n",
        "\n",
        "*  Selecting the modelling technique,\n",
        "*  Generating the test design,\n",
        "*  Building the model and\n",
        "*  Assessing the model.\n",
        "\n",
        "\n"
      ],
      "metadata": {
        "id": "cVqPYC_oenJt"
      }
    },
    {
      "cell_type": "markdown",
      "source": [
        "Q4Specify the significant input variables on the output variable at the level of 𝛼=0.05. Estimate the parameters of your model. Predict the output of the test dataset using the trained model. Provide the functional form of the optimal predictive model.\n",
        "\n"
      ],
      "metadata": {
        "id": "GoG0VHGW1xGx"
      }
    },
    {
      "cell_type": "code",
      "source": [
        "%%R\n",
        "dataset=read.csv('/content/insurance.csv') \n",
        "head(data)\n",
        "fit=glm(charges~.,data, family='gaussian')\n",
        "coef(fit) # Parameter estimation\n"
      ],
      "metadata": {
        "colab": {
          "base_uri": "https://localhost:8080/"
        },
        "id": "8agYBUlr2ABp",
        "outputId": "b7c57374-41a6-4431-c804-9b67676185a9"
      },
      "execution_count": null,
      "outputs": [
        {
          "output_type": "stream",
          "name": "stdout",
          "text": [
            "(Intercept)         age         sex         bmi    children      smoker \n",
            "-13099.6817    266.5838    196.9701    344.1377    547.6069  23841.7988 \n",
            "     region \n",
            "  -162.2798 \n"
          ]
        }
      ]
    },
    {
      "cell_type": "code",
      "source": [
        "%%R\n",
        "summary(fit)\n"
      ],
      "metadata": {
        "colab": {
          "base_uri": "https://localhost:8080/"
        },
        "id": "hVULzenf4Ekx",
        "outputId": "c05944a2-e269-4464-91e7-0b1efbec9e88"
      },
      "execution_count": null,
      "outputs": [
        {
          "output_type": "stream",
          "name": "stdout",
          "text": [
            "\n",
            "Call:\n",
            "glm(formula = charges ~ ., family = \"gaussian\", data = data)\n",
            "\n",
            "Deviance Residuals: \n",
            "     Min        1Q    Median        3Q       Max  \n",
            "-11459.9   -2761.8    -905.3    1532.9   24314.0  \n",
            "\n",
            "Coefficients:\n",
            "             Estimate Std. Error t value Pr(>|t|)    \n",
            "(Intercept) -13099.68    2019.55  -6.486 3.09e-10 ***\n",
            "age            266.58      23.08  11.550  < 2e-16 ***\n",
            "sex            196.97     665.60   0.296   0.7675    \n",
            "bmi            344.14      59.39   5.794 1.56e-08 ***\n",
            "children       547.61     276.17   1.983   0.0482 *  \n",
            "smoker       23841.80     783.80  30.418  < 2e-16 ***\n",
            "region        -162.28     300.69  -0.540   0.5898    \n",
            "---\n",
            "Signif. codes:  0 ‘***’ 0.001 ‘**’ 0.01 ‘*’ 0.05 ‘.’ 0.1 ‘ ’ 1\n",
            "\n",
            "(Dispersion parameter for gaussian family taken to be 37304277)\n",
            "\n",
            "    Null deviance: 5.5430e+10  on 347  degrees of freedom\n",
            "Residual deviance: 1.2721e+10  on 341  degrees of freedom\n",
            "AIC: 7063.8\n",
            "\n",
            "Number of Fisher Scoring iterations: 2\n",
            "\n"
          ]
        }
      ]
    },
    {
      "cell_type": "markdown",
      "source": [
        "The Pr(>|t|) column represents the p-value associated with the value in the t value column.\n",
        "\n",
        "If the p-value is less than the given significance level (α = 0.05) then the predictor variable is said to have a statistically significant relationship with the response variable in the model and if the p-value is not less than 0.05, then it does not have a significant relationship with the response variable in the model.\n",
        "\n",
        "Hence The significant input variables on the output variable at 𝛼=0.05 are **age,bmi,children,smoker**"
      ],
      "metadata": {
        "id": "vvpKv04AMYJr"
      }
    },
    {
      "cell_type": "markdown",
      "source": [
        "The Predictive Model:\n",
        " ***yhat=-13099.68 + 266.58 * age + 344.14 * bmi + 547.61 * children + 23841.80 * smoker***\n",
        "\n",
        "---\n",
        "\n"
      ],
      "metadata": {
        "id": "jePSEujSBvlx"
      }
    },
    {
      "cell_type": "code",
      "source": [
        "%%R\n",
        "df = read.csv('/content/insurance.csv')\n",
        "set.seed(143)\n",
        "n=nrow(df)\n",
        "ind=sample(n,n*0.8)\n",
        "train=df[ind,] #Train data\n",
        "test=df[-ind,] #Test data\n",
        "\n",
        "df_new=(test)[-7] # Excluding the output variable($charges) from the test data to make a prediction of the output variable\n",
        "\n",
        "library(MASS)\n",
        "\n",
        "model_full=glm(charges~.,train , family='gaussian')\n",
        "model_red=stepAIC(model_full)\n",
        "\n",
        "#Prediction\n",
        "\n",
        "pred_full=predict(model_full,df_new)\n",
        "pred_red=predict(model_red,df_new)\n",
        "pred_full\n",
        "print(pred_red)\n"
      ],
      "metadata": {
        "colab": {
          "base_uri": "https://localhost:8080/"
        },
        "id": "r6hfTDAi4QWp",
        "outputId": "855f33b1-2952-4996-9668-cddb965f999a"
      },
      "execution_count": null,
      "outputs": [
        {
          "output_type": "stream",
          "name": "stdout",
          "text": [
            "Start:  AIC=5620.14\n",
            "charges ~ age + sex + bmi + children + smoker + region\n",
            "\n",
            "           Df   Deviance    AIC\n",
            "- region    1 9.2617e+09 5618.3\n",
            "- sex       1 9.2942e+09 5619.3\n",
            "<none>        9.2557e+09 5620.1\n",
            "- children  1 9.5777e+09 5627.6\n",
            "- bmi       1 1.0074e+10 5641.7\n",
            "- age       1 1.3485e+10 5722.8\n",
            "- smoker    1 3.8622e+10 6015.3\n",
            "\n",
            "Step:  AIC=5618.32\n",
            "charges ~ age + sex + bmi + children + smoker\n",
            "\n",
            "           Df   Deviance    AIC\n",
            "- sex       1 9.3022e+09 5617.5\n",
            "<none>        9.2617e+09 5618.3\n",
            "- children  1 9.5893e+09 5626.0\n",
            "- bmi       1 1.0076e+10 5639.8\n",
            "- age       1 1.3556e+10 5722.2\n",
            "- smoker    1 3.8622e+10 6013.3\n",
            "\n",
            "Step:  AIC=5617.53\n",
            "charges ~ age + bmi + children + smoker\n",
            "\n",
            "           Df   Deviance    AIC\n",
            "<none>        9.3022e+09 5617.5\n",
            "- children  1 9.6276e+09 5625.1\n",
            "- bmi       1 1.0107e+10 5638.6\n",
            "- age       1 1.3575e+10 5720.6\n",
            "- smoker    1 3.9434e+10 6017.1\n",
            "         3         25         26         29         35         40         45 \n",
            " 7633.9013  7700.9590 14533.1417  -227.9981 31349.1852 40255.9901  9782.0875 \n",
            "        49         53         70         75         77         83         90 \n",
            "11141.7436 34300.9418 29424.7904  9429.1773  5078.8672 30073.3193 10508.8956 \n",
            "        92         96        103        105        111        115        116 \n",
            "10207.8528  7216.2629  1323.4123  5819.8089 13134.3530 13963.9296 12362.3032 \n",
            "       119        124        130        137        143        152        155 \n",
            " 8923.7613 34212.0258  9978.8962  2793.6483 30560.8970  9409.7235  6849.4611 \n",
            "       158        166        172        178        179        180        195 \n",
            "24339.3648 12299.8243  9863.5772 11804.1983 10426.9629 11238.5068  2619.0370 \n",
            "       196        208        209        220        221        222        232 \n",
            " 1739.7334 31567.2303 14145.7305   892.2963  7681.4250 11844.1354 14566.1703 \n",
            "       234        236        247        258        259        261        265 \n",
            "12662.2417 31278.2780 15204.2703  9810.4742 12253.6230 10795.5236 15995.6530 \n",
            "       267        271        272        273        275        283        286 \n",
            "29649.2259  2002.1394 37612.3739 11505.6007  2469.1249  4768.5575  8839.9473 \n",
            "       296        297        300        302        303        314        318 \n",
            " -815.9449 25371.2203 10065.9310 35855.8660 15749.1803 11533.0264 11975.2089 \n",
            "       320        331        333        341        343        346        348 \n",
            " 8225.4779 40376.6925 13406.1691  2210.4406 12048.5308  8153.1103 10859.2002 \n"
          ]
        }
      ]
    },
    {
      "cell_type": "markdown",
      "source": [
        "Q5 Propose an appropriate measure to evaluate the performance of your model. Compute this measure for your fitted model. "
      ],
      "metadata": {
        "id": "aNF8LbKNEGB2"
      }
    },
    {
      "cell_type": "markdown",
      "source": [
        "**Measure to evaluate the performance of the model:**\n",
        "\n",
        "Root mean square error is one of the most commonly used measures for evaluating the quality of predictions.The RMSE is the square root of the variance of the residuals. \n",
        "It indicates the absolute fit of the model to the data–how close the observed data points are to the model's predicted values. \n",
        "\n",
        "The lower the RMSE, the better a given model is able to “fit” a dataset."
      ],
      "metadata": {
        "id": "YcRCTW-A1n_L"
      }
    },
    {
      "cell_type": "code",
      "source": [
        "%%R\n",
        "data = read.csv('/content/insurance.csv')\n",
        "#split the dataset\n",
        "set.seed(32)\n",
        "n=nrow(data)\n",
        "indexes = sample(n,n*(80/100)) # the ratio of trainset is 80% and testset is 20%\n",
        "trainset = data[indexes,]\n",
        "testset = data[-indexes,]\n"
      ],
      "metadata": {
        "id": "8RLkY87-E4ta"
      },
      "execution_count": null,
      "outputs": []
    },
    {
      "cell_type": "code",
      "source": [
        "%%R\n",
        "# Modelling\n",
        "library(MASS)\n",
        "\n",
        "model_full=glm(charges~.,trainset , family='gaussian')\n",
        "model_red=stepAIC(model_full)"
      ],
      "metadata": {
        "colab": {
          "base_uri": "https://localhost:8080/"
        },
        "id": "kB9jgrmBIJPO",
        "outputId": "11094ef6-4e67-4de6-ff6b-5375b34ca3e6"
      },
      "execution_count": null,
      "outputs": [
        {
          "output_type": "stream",
          "name": "stdout",
          "text": [
            "Start:  AIC=5669.52\n",
            "charges ~ age + sex + bmi + children + smoker + region\n",
            "\n",
            "           Df   Deviance    AIC\n",
            "- region    1 1.1062e+10 5667.7\n",
            "- sex       1 1.1065e+10 5667.8\n",
            "- children  1 1.1123e+10 5669.2\n",
            "<none>        1.1055e+10 5669.5\n",
            "- bmi       1 1.2042e+10 5691.3\n",
            "- age       1 1.4863e+10 5749.8\n",
            "- smoker    1 4.0001e+10 6025.0\n",
            "\n",
            "Step:  AIC=5667.7\n",
            "charges ~ age + sex + bmi + children + smoker\n",
            "\n",
            "           Df   Deviance    AIC\n",
            "- sex       1 1.1071e+10 5665.9\n",
            "- children  1 1.1134e+10 5667.5\n",
            "<none>        1.1062e+10 5667.7\n",
            "- bmi       1 1.2044e+10 5689.3\n",
            "- age       1 1.4910e+10 5748.7\n",
            "- smoker    1 4.0003e+10 6023.0\n",
            "\n",
            "Step:  AIC=5665.91\n",
            "charges ~ age + bmi + children + smoker\n",
            "\n",
            "           Df   Deviance    AIC\n",
            "- children  1 1.1143e+10 5665.7\n",
            "<none>        1.1071e+10 5665.9\n",
            "- bmi       1 1.2073e+10 5688.0\n",
            "- age       1 1.4923e+10 5746.9\n",
            "- smoker    1 4.1180e+10 6029.1\n",
            "\n",
            "Step:  AIC=5665.73\n",
            "charges ~ age + bmi + smoker\n",
            "\n",
            "         Df   Deviance    AIC\n",
            "<none>      1.1143e+10 5665.7\n",
            "- bmi     1 1.2166e+10 5688.1\n",
            "- age     1 1.5011e+10 5746.6\n",
            "- smoker  1 4.1344e+10 6028.2\n"
          ]
        }
      ]
    },
    {
      "cell_type": "code",
      "source": [
        "%%R \n",
        "# Evaluating performance of the model using RMSE.\n",
        "\n",
        "yhat_full=predict(model_full,testset) #Predict\n",
        "yhat_red=predict(model_red,testset)\n",
        "yi=testset$charges #yi=Actual\n",
        "\n",
        "rmse_full=sqrt(sum((yhat_full-yi)^2)/n) #Evaluation\n",
        "rmse_red=sqrt(sum((yhat_red-yi)^2)/n)\n",
        "\n",
        "c(rmse_full,rmse_red)\n",
        "\n",
        "#  SINCE THE FULL MODEL LEADS TO THE LOWER  VALUE OF RMSE, THE FULL MODEL IS THE BETTER MODEL.\n"
      ],
      "metadata": {
        "colab": {
          "base_uri": "https://localhost:8080/"
        },
        "id": "MOdAU9fyIeD-",
        "outputId": "12031f89-a9c9-4cb0-9449-22b4f5306583"
      },
      "execution_count": null,
      "outputs": [
        {
          "output_type": "stream",
          "name": "stdout",
          "text": [
            "[1] 2125.970 2165.092\n"
          ]
        }
      ]
    }
  ]
}